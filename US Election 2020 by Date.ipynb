{
 "cells": [
  {
   "cell_type": "markdown",
   "metadata": {},
   "source": [
    "# 2020 US Election Progress Analysis"
   ]
  },
  {
   "cell_type": "markdown",
   "metadata": {},
   "source": [
    "https://www.theguardian.com/us-news/ng-interactive/2020/nov/07/us-election-2020-live-results-donald-trump-joe-biden-presidential-votes-pennsylvania-georgia-arizona-nevada"
   ]
  },
  {
   "cell_type": "code",
   "execution_count": null,
   "metadata": {
    "scrolled": true
   },
   "outputs": [],
   "source": [
    "import requests\n",
    "import pandas as pd\n",
    "import datetime\n",
    "import dateutil.parser\n",
    "import json\n",
    "import re\n",
    "import glob\n",
    "import sys\n",
    "import locale\n",
    "locale.setlocale(locale.LC_ALL, '')  # Use '' for auto, or force e.g. to 'en_US.UTF-8'\n",
    "\n",
    "# gimme 100% width\n",
    "from IPython.core.display import display, HTML\n",
    "display(HTML(\"<style>.container { width:100% !important; }</style>\"))\n",
    "\n",
    "def format_percent(x):\n",
    "    return f'{x*100:.2f}'\n",
    "\n",
    "def flattened(l):\n",
    "    return [item for sublist in l for item in sublist]\n",
    "\n",
    "NAME_BY_ACRONYM = {\n",
    "    'AL': 'Alabama',        'AK': 'Alaska',        'AZ': 'Arizona',    'AR': 'Arkansas',             'CA': 'California',\n",
    "    'CO': 'Colorado',       'CT': 'Connecticut',   'DE': 'Delaware',   'DC': 'District of Columbia', 'FL': 'Florida',\n",
    "    'GA': 'Georgia',        'HI': 'Hawaii',        'ID': 'Idaho',      'IL': 'Illinois',             'IN': 'Indiana',\n",
    "    'IA': 'Iowa',           'KS': 'Kansas',        'KY': 'Kentucky',   'LA': 'Louisiana',            'ME': 'Maine',\n",
    "    'MD': 'Maryland',       'MA': 'Massachusetts', 'MI': 'Michigan',   'MN': 'Minnesota',            'MS': 'Mississippi',\n",
    "    'MO': 'Missouri',       'MT': 'Montana',       'NE': 'Nebraska',   'NV': 'Nevada',               'NH': 'New Hampshire',\n",
    "    'NJ': 'New Jersey',     'NM': 'New Mexico',    'NY': 'New York',   'NC': 'North Carolina',       'ND': 'North Dakota',\n",
    "    'OH': 'Ohio',           'OK': 'Oklahoma',      'OR': 'Oregon',     'PA': 'Pennsylvania',         'RI': 'Rhode Island',\n",
    "    'SC': 'South Carolina', 'SD': 'South Dakota',  'TN': 'Tennessee',  'TX': 'Texas',    'UT':       'Utah',\n",
    "    'VT': 'Vermont',        'VA': 'Virginia',      'WA': 'Washington', 'WV': 'West Virginia',        'WI': 'Wisconsin',\n",
    "    'WY': 'Wyoming',        'PR': 'Puerto Rico',\n",
    "}\n",
    "\n",
    "def load(file_name=None):\n",
    "    if file_name:\n",
    "        with open(file_name) as f:\n",
    "            return json.load(f)\n",
    "    \n",
    "    # Load dataset\n",
    "    try:\n",
    "        # From the Guardian on the Web...\n",
    "        last_update = requests.get('https://interactive.guim.co.uk/2020/11/us-general-election-data/prod/last_updated.json').json()\n",
    "        last_time = last_update['time']\n",
    "        url = f'https://interactive.guim.co.uk/2020/11/us-general-election-data/prod/data-out/{last_time}/president_details.json'\n",
    "        print(last_time)\n",
    "        data = requests.get(url).json()\n",
    "        fname = 'data-cache--' + re.compile('[^0-9a-zA-Z-]').sub('.', last_time) + '.json'\n",
    "        with open(fname, 'w') as f: json.dump(data, f, indent='  ', sort_keys=True)\n",
    "    except Exception as e:\n",
    "        # ... or cached\n",
    "        print(e, file=sys.stderr)\n",
    "        names = sorted(glob.glob('data-cache--*.json'))\n",
    "        print('Found cache:', names)\n",
    "        name = names[-1]\n",
    "        print('Loading:', name)\n",
    "        with open(name) as f: data = json.load(f)\n",
    "    return data\n",
    "\n",
    "def compute(data):\n",
    "    electors_by_candidate = {}\n",
    "    electors_by_candidate_may = {}\n",
    "    electors_by_state = {}\n",
    "\n",
    "    new_data = {}\n",
    "    new_data_short = {}\n",
    "\n",
    "    n = 0\n",
    "\n",
    "    # Compute electors by state\n",
    "    for acronym, state_data in data.items():\n",
    "        if acronym == 'US': continue\n",
    "        electors = max( c['electWon'] for c in state_data['candidates'])\n",
    "        # Some return zero, fix that\n",
    "        electors_by_state[acronym] = {'AK': 6, 'GA': 16}.get(acronym, electors)\n",
    "\n",
    "    # Analyze each state\n",
    "    for acronym, state_data in data.items():\n",
    "        if acronym == 'US': continue\n",
    "        n += 1\n",
    "        extra = {}\n",
    "        extra_short = {}\n",
    "        electors = electors_by_state[acronym]\n",
    "\n",
    "        # Analyze each field\n",
    "        for k, v in state_data.items():\n",
    "            if k == 'declarationTime' and v:\n",
    "                # make it shorter\n",
    "                dt = dateutil.parser.parse(v)\n",
    "                state_data[k] = datetime.datetime.strftime(dt, '%b %d %H:%M')\n",
    "            if k == 'candidates':\n",
    "                candidate = {c['name'].split()[-1]:c for c in v}\n",
    "                if n and n < 4:\n",
    "                    pass #print();print(candidate)\n",
    "                # compute votes\n",
    "                nb_counted = sum([c['votes'] for c in v])\n",
    "                max_votes = int(state_data['totalVotes'] / state_data['reporting'] * 100.)\n",
    "                rem_votes = max_votes - nb_counted\n",
    "                # general fields\n",
    "                #extra['electors'] = electors\n",
    "                extra['% counted']   = extra_short['% counted']   = state_data['reporting']\n",
    "                extra['grand total'] = extra_short['grand total'] = max_votes\n",
    "                extra['uncounted']   = extra_short['uncounted']   = rem_votes\n",
    "                # per-candidate votes\n",
    "                extra['- SCORE -'] = ''\n",
    "                for name, cdata in candidate.items():\n",
    "                    val = cdata['votes'] / nb_counted\n",
    "                    extra[name]       = extra_short[name]       = cdata['votes']\n",
    "                for name, cdata in candidate.items():\n",
    "                    val = cdata['votes'] / nb_counted\n",
    "                    extra[name + '%']       = format_percent(val)\n",
    "                    extra_short[name + '%'] = val\n",
    "                # winner\n",
    "                winner = sorted([(cdata['votes'], name) for name, cdata in candidate.items()])[-1][1]\n",
    "                extra['winner'] = winner\n",
    "                # compute \"maybe\" winner: who could win, if getting all remaining votes\n",
    "                extra['- MAYBE -'] = ''\n",
    "                cand2 = {c['votes']:c['name'].split()[-1] for c in v}\n",
    "                possibilities = [\n",
    "                    [[votes2 + (rem_votes if name2!=winner else 0), name2] for votes2, name2 in cand2.items()]\n",
    "                    for votes1, name1 in cand2.items()]\n",
    "                winner_may_votes, winner_may = sorted(flattened(possibilities))[-1]\n",
    "                for name, cdata in candidate.items():\n",
    "                    val = (cdata['votes']+rem_votes) / (nb_counted+rem_votes)\n",
    "                    extra[name + '%may'] = format_percent(val) if name != winner else f'({format_percent(val)})'\n",
    "                extra['may'] = winner_may if winner_may != winner else ''\n",
    "                #extra['may votes'] = winner_may_votes\n",
    "                #extra['may %'] = format_percent(winner_may_votes / max_votes)\n",
    "\n",
    "        # accumulate won electors\n",
    "        electors_by_candidate.setdefault(winner, 0)\n",
    "        electors_by_candidate[winner] += electors\n",
    "        electors_by_candidate_may.setdefault(winner_may, 0)\n",
    "        electors_by_candidate_may[winner_may] += electors\n",
    "\n",
    "        # format ints\n",
    "        for k, v in extra.items():\n",
    "            if v.__class__ is int:\n",
    "                extra[k] = f'{v:n}'\n",
    "        # keep new data and format ints\n",
    "        new_data[acronym] = extra\n",
    "        new_data_short[acronym] = extra_short\n",
    "\n",
    "    electors_by_candidate = [{'Candidate': cand, 'Electors': electors} for cand, electors in electors_by_candidate.items()]\n",
    "    electors_by_candidate_may = [{'Candidate maybe': cand, 'Electors': electors} for cand, electors in electors_by_candidate_may.items()]\n",
    "    electors_by_state = {acronym:{'Name': NAME_BY_ACRONYM[acronym], 'Electors': nb} for acronym, nb in electors_by_state.items()}\n",
    "    \n",
    "    return new_data, new_data_short, electors_by_candidate, electors_by_candidate_may, electors_by_state\n",
    "\n",
    "def dic_dict_sub(d1, d2):\n",
    "    def fmt(v):\n",
    "        if v.__class__ == int:\n",
    "            return f'{v:n}'\n",
    "        elif v.__class__ == float:\n",
    "            return f'{v*100:.2f}'\n",
    "        else:\n",
    "            return v\n",
    "        \n",
    "    return { k1:{k2:fmt(v2-d2[k1][k2]) for k2, v2 in v1.items()} for k1, v1 in d1.items()}\n",
    "\n",
    "pd.set_option('display.max_columns', 500)\n",
    "pd.set_option('display.width', 10000)\n",
    "pd.set_option('display.max_colwidth', None)"
   ]
  },
  {
   "cell_type": "markdown",
   "metadata": {},
   "source": [
    "# 1. Results as of Sat 7 Nov"
   ]
  },
  {
   "cell_type": "code",
   "execution_count": null,
   "metadata": {},
   "outputs": [],
   "source": [
    "data = load('data-cache--2020-11-07T17.14.12.533.00.00.json')\n",
    "\n",
    "new_data, new_data_short_0, electors_by_candidate, electors_by_candidate_may, electors_by_state = compute(data)\n",
    "pd.DataFrame(new_data)"
   ]
  },
  {
   "cell_type": "code",
   "execution_count": null,
   "metadata": {},
   "outputs": [],
   "source": [
    "pd.DataFrame(electors_by_state)"
   ]
  },
  {
   "cell_type": "markdown",
   "metadata": {},
   "source": [
    "## Electors"
   ]
  },
  {
   "cell_type": "code",
   "execution_count": null,
   "metadata": {},
   "outputs": [],
   "source": [
    "pd.DataFrame(electors_by_candidate)"
   ]
  },
  {
   "cell_type": "markdown",
   "metadata": {},
   "source": [
    "## Potential twist "
   ]
  },
  {
   "cell_type": "code",
   "execution_count": null,
   "metadata": {},
   "outputs": [],
   "source": [
    "pd.DataFrame(electors_by_candidate_may)"
   ]
  },
  {
   "cell_type": "markdown",
   "metadata": {},
   "source": [
    "# 2. Results as of Thu 12 Nov"
   ]
  },
  {
   "cell_type": "code",
   "execution_count": null,
   "metadata": {},
   "outputs": [],
   "source": [
    "#data = load('data-cache--2020-11-09T23.58.18.360.00.00.json')\n",
    "#data = load('data-cache--2020-11-11T07.57.21.383.00.00.json')\n",
    "#data = load('data-cache--2020-11-12T12.27.02.803.00.00.json')\n",
    "data = load('data-cache--2020-11-13T09.09.56.007.00.00.json')\n",
    "new_data, new_data_short_1, electors_by_candidate, electors_by_candidate_may, electors_by_state = compute(data)\n",
    "pd.DataFrame(new_data)"
   ]
  },
  {
   "cell_type": "code",
   "execution_count": null,
   "metadata": {},
   "outputs": [],
   "source": [
    "pd.DataFrame(electors_by_state)"
   ]
  },
  {
   "cell_type": "markdown",
   "metadata": {},
   "source": [
    "## Electors"
   ]
  },
  {
   "cell_type": "code",
   "execution_count": null,
   "metadata": {},
   "outputs": [],
   "source": [
    "pd.DataFrame(electors_by_candidate)"
   ]
  },
  {
   "cell_type": "markdown",
   "metadata": {},
   "source": [
    "## Potential twist "
   ]
  },
  {
   "cell_type": "code",
   "execution_count": null,
   "metadata": {},
   "outputs": [],
   "source": [
    "pd.DataFrame(electors_by_candidate_may)"
   ]
  },
  {
   "cell_type": "markdown",
   "metadata": {},
   "source": [
    "# 3. Results as of now"
   ]
  },
  {
   "cell_type": "code",
   "execution_count": null,
   "metadata": {
    "scrolled": false
   },
   "outputs": [],
   "source": [
    "data = load()\n",
    "new_data, new_data_short_2, electors_by_candidate, electors_by_candidate_may, electors_by_state = compute(data)\n",
    "pd.DataFrame(new_data)"
   ]
  },
  {
   "cell_type": "code",
   "execution_count": null,
   "metadata": {},
   "outputs": [],
   "source": [
    "pd.DataFrame(electors_by_state)"
   ]
  },
  {
   "cell_type": "markdown",
   "metadata": {},
   "source": [
    "## Progression "
   ]
  },
  {
   "cell_type": "code",
   "execution_count": null,
   "metadata": {},
   "outputs": [],
   "source": [
    "pd.DataFrame(dic_dict_sub(new_data_short_2, new_data_short_1))"
   ]
  },
  {
   "cell_type": "markdown",
   "metadata": {},
   "source": [
    "## Progression since Sat 7 Nov"
   ]
  },
  {
   "cell_type": "code",
   "execution_count": null,
   "metadata": {},
   "outputs": [],
   "source": [
    "pd.DataFrame(dic_dict_sub(new_data_short_2, new_data_short_0))"
   ]
  },
  {
   "cell_type": "markdown",
   "metadata": {},
   "source": [
    "## Electors"
   ]
  },
  {
   "cell_type": "code",
   "execution_count": null,
   "metadata": {
    "scrolled": true
   },
   "outputs": [],
   "source": [
    "pd.DataFrame(electors_by_candidate)"
   ]
  },
  {
   "cell_type": "markdown",
   "metadata": {},
   "source": [
    "## Potential twist"
   ]
  },
  {
   "cell_type": "code",
   "execution_count": null,
   "metadata": {
    "scrolled": false
   },
   "outputs": [],
   "source": [
    "pd.DataFrame(electors_by_candidate_may)"
   ]
  },
  {
   "cell_type": "markdown",
   "metadata": {},
   "source": [
    "# 4. Electors per state"
   ]
  },
  {
   "cell_type": "code",
   "execution_count": null,
   "metadata": {},
   "outputs": [],
   "source": [
    "pd.DataFrame(electors_by_state).transpose()"
   ]
  },
  {
   "cell_type": "code",
   "execution_count": null,
   "metadata": {},
   "outputs": [],
   "source": []
  }
 ],
 "metadata": {
  "kernelspec": {
   "display_name": "Python 3",
   "language": "python",
   "name": "python3"
  },
  "language_info": {
   "codemirror_mode": {
    "name": "ipython",
    "version": 3
   },
   "file_extension": ".py",
   "mimetype": "text/x-python",
   "name": "python",
   "nbconvert_exporter": "python",
   "pygments_lexer": "ipython3",
   "version": "3.6.9"
  }
 },
 "nbformat": 4,
 "nbformat_minor": 4
}
